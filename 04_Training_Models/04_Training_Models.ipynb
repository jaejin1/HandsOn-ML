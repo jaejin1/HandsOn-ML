{
 "cells": [
  {
   "cell_type": "markdown",
   "metadata": {},
   "source": [
    "지금까지 ML model을 다뤘다 그리고 학습 알고리즘은 black box와 같이 알수없다.\n",
    "자세히 알 필요도 없다. \n",
    "\n",
    "하지만 이해하기위해선 어떻게 작동하는지 알아야한다. 맞는 알고리즘을 쓰고있는지, 좋은 hyperparameter를 선택했는지 등..  또 디버깅해야하기 떄문에\n",
    "\n",
    "이번챕터에서 이해하고, building하고 training neural networks에서 알아보깅\n",
    "\n",
    "이번챕터에서 Linear Regression model을 볼 것이다. \n",
    "2가지 트레이닝 방법은 \n",
    "\n",
    "1. 직접적으로 모델 파라미터를 조정해서 best fit을 찾는다. \"closed-form\"\n",
    "2. 반복적인 정규화를 사용한다. Gradient Descent (GD)라고 불림. 이후에 batch GD, Mini batch GD, Stochastic GD를 배울것이다. \n",
    "\n",
    "다음은 Polynomial Regression을 볼것인데 매우 복잡한 nonlinear datasets에 잘맞는다.\n",
    "linear Regression보다 많은 파라미터를 가지고 있는 것들은 overfitting을 하는 경우가 있다.\n",
    "따라서 overfitting을 감소하기위해 정규화 방법이 있다.\n",
    "\n",
    "마지막으로 Logistic Regression 이랑 Softmax Regression을 본다."
   ]
  },
  {
   "cell_type": "markdown",
   "metadata": {},
   "source": [
    "# Linear Regression\n",
    "\n",
    "![01](../book_images/04/01.png)\n",
    "\n",
    "**y^** 은 예측값을 의미하고 **n** 은 feature의 개수를 의미하고 **Xi** 는 i번째 feature값을 의미하고 \n",
    "**θj** 는 j번째 모델 파라미터를 의미하고 **θ0** 은 bias를 의미함.\n",
    "\n",
    "위의 식을 벡터화시켜서 훨신 간결하게 쓸수있다.\n",
    "\n",
    "![02](../book_images/04/02.png)\n",
    "\n",
    "이것이 Linear Regression model이다. 먼저 model fit이 잘맞는지 측정한다. 챕터2에서 흔히 쓰이는 MSE에 대해서 설명했다. MSE가 최소가 되는 θ값을 찾는다. \n",
    "\n",
    "![03](../book_images/04/03.png)\n",
    "\n",
    "2장과 다른점은 **벡터 θ**로 매개변수화 된것밖에없다.\n",
    "\n",
    "## The Normal Equation\n",
    "\n",
    "cost function이 최소가되는 θ를 찾았다면 이것은 closed-form solution이다. 왜냐면 모델 파라미터를 조정해서 찾았기 때문에 ..\n",
    "다른 말로 Normal Equation이라함. \n",
    "\n",
    "![04](../book_images/04/04.png)\n",
    "\n",
    "**θ^** 은 θ의 cost function 최소값을 의미한다.\n"
   ]
  },
  {
   "cell_type": "code",
   "execution_count": 24,
   "metadata": {},
   "outputs": [
    {
     "name": "stdout",
     "output_type": "stream",
     "text": [
      "[[ 0.04363797]\n",
      " [ 0.23005929]\n",
      " [ 1.29579866]\n",
      " [ 0.94864085]\n",
      " [ 1.09694819]\n",
      " [ 1.99029968]\n",
      " [ 0.76765515]\n",
      " [ 0.98053665]\n",
      " [ 0.80785157]\n",
      " [ 1.00799884]\n",
      " [ 1.89216585]\n",
      " [ 1.32224572]\n",
      " [ 1.16958409]\n",
      " [ 1.01522055]\n",
      " [ 0.27663899]\n",
      " [ 0.67621583]\n",
      " [ 1.51534628]\n",
      " [ 1.20441408]\n",
      " [ 0.86167829]\n",
      " [ 0.47653739]\n",
      " [ 0.87845852]\n",
      " [ 0.51208691]\n",
      " [ 0.54368678]\n",
      " [ 0.45387043]\n",
      " [ 1.9422303 ]\n",
      " [ 0.09651551]\n",
      " [ 0.73482972]\n",
      " [ 0.36937945]\n",
      " [ 1.38171744]\n",
      " [ 0.83265082]\n",
      " [ 0.60622759]\n",
      " [ 0.35788015]\n",
      " [ 1.04621382]\n",
      " [ 1.59580443]\n",
      " [ 1.88994254]\n",
      " [ 0.49044513]\n",
      " [ 1.55835822]\n",
      " [ 0.29934151]\n",
      " [ 1.54874593]\n",
      " [ 0.919574  ]\n",
      " [ 1.67464706]\n",
      " [ 1.2158125 ]\n",
      " [ 1.49870305]\n",
      " [ 1.12212134]\n",
      " [ 0.15398817]\n",
      " [ 0.55805619]\n",
      " [ 1.23479584]\n",
      " [ 0.65285895]\n",
      " [ 1.07318305]\n",
      " [ 1.73298753]\n",
      " [ 0.70776082]\n",
      " [ 1.38938684]\n",
      " [ 1.52699504]\n",
      " [ 0.58215354]\n",
      " [ 0.75676545]\n",
      " [ 1.01239858]\n",
      " [ 0.36316316]\n",
      " [ 1.3615446 ]\n",
      " [ 1.62722203]\n",
      " [ 1.28547786]\n",
      " [ 1.55947801]\n",
      " [ 0.67127111]\n",
      " [ 1.48268537]\n",
      " [ 0.06820817]\n",
      " [ 0.07215752]\n",
      " [ 1.08260775]\n",
      " [ 1.01821462]\n",
      " [ 1.26960283]\n",
      " [ 1.05978595]\n",
      " [ 1.3068149 ]\n",
      " [ 0.07656094]\n",
      " [ 0.01329247]\n",
      " [ 0.37112478]\n",
      " [ 0.04554886]\n",
      " [ 1.30142235]\n",
      " [ 0.05665104]\n",
      " [ 1.24063169]\n",
      " [ 0.21940714]\n",
      " [ 0.15514401]\n",
      " [ 1.07888017]\n",
      " [ 0.98678481]\n",
      " [ 1.75502636]\n",
      " [ 0.40206516]\n",
      " [ 0.32304949]\n",
      " [ 0.34406695]\n",
      " [ 1.5252782 ]\n",
      " [ 1.19886123]\n",
      " [ 0.3716909 ]\n",
      " [ 0.76348433]\n",
      " [ 1.80316472]\n",
      " [ 1.72337485]\n",
      " [ 1.0284399 ]\n",
      " [ 0.81061277]\n",
      " [ 0.31315201]\n",
      " [ 0.9819454 ]\n",
      " [ 1.44325826]\n",
      " [ 0.84289605]\n",
      " [ 1.75688028]\n",
      " [ 0.71602911]\n",
      " [ 0.73378858]]\n",
      "[[  5.2183744 ]\n",
      " [  3.67624406]\n",
      " [  9.10719001]\n",
      " [  5.95918017]\n",
      " [  6.77283078]\n",
      " [  9.04356572]\n",
      " [  5.506415  ]\n",
      " [  7.18934582]\n",
      " [  5.8088126 ]\n",
      " [  6.66770643]\n",
      " [ 10.62042073]\n",
      " [  8.95797802]\n",
      " [  6.87339666]\n",
      " [  5.59096047]\n",
      " [  5.0607293 ]\n",
      " [  5.80790583]\n",
      " [  9.45297311]\n",
      " [  6.63422709]\n",
      " [  6.71936328]\n",
      " [  4.94127189]\n",
      " [  3.11527411]\n",
      " [  5.76407308]\n",
      " [  4.67175069]\n",
      " [  3.48062543]\n",
      " [  9.5151189 ]\n",
      " [  4.84910288]\n",
      " [  5.79713576]\n",
      " [  4.38987502]\n",
      " [  8.34519545]\n",
      " [  6.52203588]\n",
      " [  4.13984842]\n",
      " [  5.82286249]\n",
      " [  7.62236826]\n",
      " [ 11.50496555]\n",
      " [ 10.48407227]\n",
      " [  6.19989334]\n",
      " [  8.97709967]\n",
      " [  5.61204538]\n",
      " [  8.43640731]\n",
      " [  7.27671608]\n",
      " [  7.40601639]\n",
      " [  7.03313354]\n",
      " [  9.75602377]\n",
      " [  7.3931368 ]\n",
      " [  3.21394468]\n",
      " [  5.96748527]\n",
      " [  7.49549731]\n",
      " [  5.01694662]\n",
      " [  7.97153787]\n",
      " [  9.05452873]\n",
      " [  5.96797175]\n",
      " [  8.51170407]\n",
      " [  8.49806934]\n",
      " [  6.14809285]\n",
      " [  7.10993664]\n",
      " [  6.88592661]\n",
      " [  4.32536811]\n",
      " [  7.82605192]\n",
      " [  9.01057988]\n",
      " [  9.33662939]\n",
      " [  9.69285155]\n",
      " [  5.74812725]\n",
      " [  7.46160982]\n",
      " [  3.65938581]\n",
      " [  3.30632035]\n",
      " [  7.77869214]\n",
      " [  7.3130747 ]\n",
      " [  7.15600638]\n",
      " [  8.17023905]\n",
      " [  8.49966989]\n",
      " [  3.5487317 ]\n",
      " [  5.64136734]\n",
      " [  5.43604061]\n",
      " [  5.34323085]\n",
      " [  9.26733133]\n",
      " [  4.1196875 ]\n",
      " [  7.28180408]\n",
      " [  4.93355835]\n",
      " [  4.31281213]\n",
      " [  6.34259131]\n",
      " [  5.67302119]\n",
      " [  8.19489437]\n",
      " [  6.68781853]\n",
      " [  5.53726419]\n",
      " [  4.32317193]\n",
      " [  8.03995731]\n",
      " [  8.60597346]\n",
      " [  6.12020527]\n",
      " [  6.77561837]\n",
      " [ 10.07376803]\n",
      " [ 10.631259  ]\n",
      " [  6.75676805]\n",
      " [  5.99451827]\n",
      " [  3.3570126 ]\n",
      " [  6.57858301]\n",
      " [  7.4755916 ]\n",
      " [  7.66040864]\n",
      " [  8.43854145]\n",
      " [  8.05495649]\n",
      " [  4.8472618 ]]\n"
     ]
    }
   ],
   "source": [
    "import numpy as np\n",
    "\n",
    "X = 2 * np.random.rand(100,1)\n",
    "print(X)\n",
    "Y = 4+3* X + np.random.randn(100,1)\n",
    "print(Y)"
   ]
  },
  {
   "cell_type": "code",
   "execution_count": 25,
   "metadata": {},
   "outputs": [
    {
     "data": {
      "image/png": "[encoded data removed]",
      "text/plain": [
       "<matplotlib.figure.Figure at 0x108d607f0>"
      ]
     },
     "metadata": {},
     "output_type": "display_data"
    }
   ],
   "source": [
    "import matplotlib.pyplot as plt\n",
    "\n",
    "plt.plot(X, Y, \"b.\")\n",
    "plt.xlabel(\"$x_1$\", fontsize=18)\n",
    "plt.ylabel(\"$y$\", rotation=0, fontsize=18)\n",
    "plt.axis([0, 2, 0, 15])\n",
    "plt.show()"
   ]
  },
  {
   "cell_type": "code",
   "execution_count": 26,
   "metadata": {},
   "outputs": [],
   "source": [
    "X_b = np.c_[np.ones((100, 1)), X]  # add x0 = 1 to each instance\n",
    "theta_best = np.linalg.inv(X_b.T.dot(X_b)).dot(X_b.T).dot(Y)"
   ]
  },
  {
   "cell_type": "markdown",
   "metadata": {},
   "source": [
    "y = 4 + 3x1"
   ]
  },
  {
   "cell_type": "code",
   "execution_count": 27,
   "metadata": {},
   "outputs": [
    {
     "data": {
      "text/plain": [
       "array([[ 3.84963293],\n",
       "       [ 3.13439857]])"
      ]
     },
     "execution_count": 27,
     "metadata": {},
     "output_type": "execute_result"
    }
   ],
   "source": [
    "theta_best"
   ]
  },
  {
   "cell_type": "markdown",
   "metadata": {},
   "source": [
    "θ0 = 4.124 θ1 = 2.85\n",
    "\n",
    "츙분히 비슷하게 얻었다 하지만 noise때문에 정확한 매개변수 얻을수없음."
   ]
  },
  {
   "cell_type": "code",
   "execution_count": 28,
   "metadata": {},
   "outputs": [
    {
     "data": {
      "text/plain": [
       "array([[  3.84963293],\n",
       "       [ 10.11843008]])"
      ]
     },
     "execution_count": 28,
     "metadata": {},
     "output_type": "execute_result"
    }
   ],
   "source": [
    "X_new = np.array([[0],[2]])\n",
    "X_new_b = np.c_[np.ones((2,1)),X_new]\n",
    "y_predict = X_new_b.dot(theta_best)\n",
    "y_predict"
   ]
  },
  {
   "cell_type": "code",
   "execution_count": 29,
   "metadata": {},
   "outputs": [
    {
     "data": {
      "image/png": "[encoded data removed]",
      "text/plain": [
       "<matplotlib.figure.Figure at 0x108dc1f60>"
      ]
     },
     "metadata": {},
     "output_type": "display_data"
    }
   ],
   "source": [
    "plt.plot(X_new, y_predict, \"r-\",label=\"Predictions\")\n",
    "plt.plot(X,Y, \"b.\")\n",
    "plt.legend(loc=\"upper left\", fontsize=14)\n",
    "plt.axis([0,2,0,15])\n",
    "plt.show()"
   ]
  },
  {
   "cell_type": "markdown",
   "metadata": {},
   "source": [
    "같은 방법으로 Scikit-Learn을 이용해보자"
   ]
  },
  {
   "cell_type": "code",
   "execution_count": 30,
   "metadata": {},
   "outputs": [
    {
     "data": {
      "text/plain": [
       "(array([ 3.84963293]), array([[ 3.13439857]]))"
      ]
     },
     "execution_count": 30,
     "metadata": {},
     "output_type": "execute_result"
    }
   ],
   "source": [
    "from sklearn.linear_model import LinearRegression\n",
    "lin_reg = LinearRegression()\n",
    "lin_reg.fit(X, Y)\n",
    "lin_reg.intercept_, lin_reg.coef_"
   ]
  },
  {
   "cell_type": "code",
   "execution_count": 31,
   "metadata": {},
   "outputs": [
    {
     "data": {
      "text/plain": [
       "array([[  3.84963293],\n",
       "       [ 10.11843008]])"
      ]
     },
     "execution_count": 31,
     "metadata": {},
     "output_type": "execute_result"
    }
   ],
   "source": [
    "lin_reg.predict(X_new)"
   ]
  },
  {
   "cell_type": "markdown",
   "metadata": {},
   "source": [
    "## Computational Complexity\n",
    "\n",
    "![05](../book_images/04/05.png)\n",
    "\n",
    "Normal Equation은 n X n 행렬인 XT * X의 역행렬을 계산한다. 이때 n 은 features수 이다. 이런 계산의 복잡성은 O(n^2.4) to O(n^3) (구현에 따라 다름) 이다. feature수를 두배로하면 2^2.4 = 5.3 to 2^3 = 8\n",
    "\n",
    "이 방정식은 선형이기 때문에 대규모 훈련을 시킬때 좋음. 또한 Linear Regression 모델 (using Normal Equation 또는 다른 알고리즘) 을 학습하면 예측이 매우 빠르다. \n",
    "\n"
   ]
  },
  {
   "cell_type": "markdown",
   "metadata": {},
   "source": [
    "# Gradient Descent\n",
    "\n",
    "Gradient Descent는 일반적인 정규화 알고리즘이다. 이것은 파라미터를 조정하면서 cost function을 최소화 시킨다. \n",
    "\n",
    "θ를 랜덤으로 정해놓고 (random initialization이라 불림) 쪼금식 진행하는데 cost function을 감소시켜 최소로 수렴할때 까지 .\n",
    "\n",
    "![06](../book_images/04/06.png)\n",
    "\n",
    "얼마나 크게 감소할껀지 정하는 파라미터는 learning rate이다. 만약 learning rate가 너무 작다면 내려가는데 너무 오래걸릴것이다. 밑의 그림처럼\n",
    "\n",
    "![07](../book_images/04/07.png)\n",
    "\n",
    "반대로 learning rate가 너무크다면 너무 많이 왔다갓다거려서 최소값을 찾기 어려울 것이다. \n",
    "\n",
    "![08](../book_images/04/08.png)\n",
    "\n",
    "마지막으로 최소값이 여러개 hole이 여러개 있을때는 진짜 최소값을 찾기 어려울것이다. \n",
    "\n",
    "![09](../book_images/04/09.png)\n",
    "\n",
    "왼쪽부터 시작하게 되면 local minimum에 도달할것이고 오른쪽에서 시작하면 global minimum에 도달할때까지 시간이 너무 오래걸릴 것이다.\n",
    "\n",
    "다행히 Linear Regression일경우 convex function이기 떄문에 두점을 연결하는 선을 하나그려볼때 그 선과 함수와 만나지 않으면 하나의 global minimum인 local minimum이 없다는 것을 의미한다. \n",
    "\n",
    "![10](../book_images/04/10.png)\n",
    "\n",
    "왼쪽은 feature 1, 2 가 비슷한 크기를 가질때를 보여주고 오른쪽은 둘중 하나가 크고 하나가 작은 크기를 가질때 보여준다. \n",
    "왼쪽은 최소값을 향해 곧게 이동하지만 오른쪽은 최소값과 직각을 이루면서 감소하다가 올바르게 감소하는 것을 볼수 있는데 이는 시간이 오래걸릴것이라고 예측할 수 있다.\n",
    "\n",
    "이 다이어그램은 모델을 훈련하는 것이 cost function을 최소화하는 모델의 매개변수 조합을 찾아야 한다는 것을 의미한다. 매개변수가 많아질수록 크기가 커지고 검색이 어려워진다. "
   ]
  },
  {
   "cell_type": "markdown",
   "metadata": {},
   "source": [
    "## Batch Gradient Descent\n",
    "\n",
    "Gradient Descent를 구현하려면 각 모델 매개 변수 θj에 대한 cost function의 gradient를 계산해야한다. θj를 조금만 변경하면 얼마나 달라질지 계산해야한다. \n",
    "\n",
    "![11](../book_images/04/11.png)\n",
    "\n",
    "식 4-5는 매개변수 θj와 관련해 편미분을 계산한다.\n",
    "\n",
    "![12](../book_images/04/12.png)\n",
    "\n",
    "gradient vector가 uphill을 향하면 반대로 downhill으로 가야한다. 이것은 θ에서 ∇ θMSE (θ)를 뺀 것을 의미한다.\n",
    "내리막의 크기를 결정하기 위해 η를 곱한다.\n",
    "\n",
    "![13](../book_images/04/13.png)"
   ]
  },
  {
   "cell_type": "code",
   "execution_count": 32,
   "metadata": {},
   "outputs": [
    {
     "data": {
      "text/plain": [
       "array([[ 3.84963293],\n",
       "       [ 3.13439857]])"
      ]
     },
     "execution_count": 32,
     "metadata": {},
     "output_type": "execute_result"
    }
   ],
   "source": [
    "eta = 0.1 #learning rate\n",
    "n_iterations = 1000\n",
    "m = 100\n",
    "\n",
    "theta = np.random.randn(2,1) # random initialization\n",
    "\n",
    "for iteration in range(n_iterations):\n",
    "    gradients = 2/m * X_b.T.dot(X_b.dot(theta) - Y)\n",
    "    theta = theta - eta * gradients\n",
    "    \n",
    "theta"
   ]
  },
  {
   "cell_type": "markdown",
   "metadata": {},
   "source": [
    "gradient descent가 제대로 작동했다. 다른 learning rate를 사용하면 어떻게 될까보자\n",
    "\n",
    "![14](../book_images/04/14.png)\n",
    "\n"
   ]
  },
  {
   "cell_type": "markdown",
   "metadata": {},
   "source": [
    "왼쪽은 learning rate가 너무낮게 나왔다. 계속 하다보면 결국 도달하겠지만 시간이 오래걸린다. \n",
    "중간은 잘 나왔다.\n",
    "오른쪽은 learning rate가 너무 높게 나왔다.\n",
    "\n",
    "좋은 학습률을 찾으려면 grid search를 이용해라 (챕터2장) 시간이 너무 오래걸리는 모델을 제거하기위해 반복 횟수를 제한한다. gradient vector가 작아질때 인터럽트한다. \n",
    "\n",
    "## Stochastic Gradient Descent\n",
    "\n",
    "Batch Gradient Descnet의 문제는 모든 단계에서 gradient를 계산하기때문에 시간이 너무 오래걸린다. Stochastic Gradient Descent 는 무작위의 인스턴스를 선택하고 해당 인스턴스만 gradient를 계산한다. 무작위 성질을 가지고있어서 Batch Gradient Descent보다 훨씬 덜 규칙적이다. 최소값에 도달 할 때까지 완만하게 감소하는 대신 cost function이 평균적으로만 줄어들다가 오르내린다. 시간이 지남에 따라 최소값에 근접하게 될 것이지만 완벽한 최소값은 아니다.\n",
    "\n",
    "![15](../book_images/04/15.png)\n",
    "\n",
    "cost function 이 불규칙하면 위의 그림과 같이 local minimum에서 벗어나게 해줌. 따라서 global 최소값을 찾는데 batch보다 성능이 뛰어나다.\n",
    "\n",
    "local을 벗어나는 것은 좋지만 결코 최소로 정착할 수 없다는 것은 좋지 않다. 이 해결책은 점진적으로 learning rate를 낮추는 것이다. 크게 시작되어서 작게 진행되게 만들면 안정화가 된다. \n",
    "\n",
    "다음코드는 Stochastic Gradient Descent를 보여준다."
   ]
  },
  {
   "cell_type": "code",
   "execution_count": 34,
   "metadata": {},
   "outputs": [
    {
     "data": {
      "text/plain": [
       "array([[ 3.79923658],\n",
       "       [ 3.14725646]])"
      ]
     },
     "execution_count": 34,
     "metadata": {},
     "output_type": "execute_result"
    }
   ],
   "source": [
    "n_epochs = 50\n",
    "t0, t1 = 5, 50 #learning schedule hyperparameters\n",
    "\n",
    "def learning_schedule(t):\n",
    "    return t0 / (t + t1)\n",
    "\n",
    "theta = np.random.randn(2,1) # random initialization\n",
    "\n",
    "for epoch in range(n_epochs):\n",
    "    for i in range(m):\n",
    "        random_index = np.random.randint(m)\n",
    "        xi = X_b[random_index:random_index+1]\n",
    "        yi = Y[random_index:random_index+1]\n",
    "        gradients = 2*xi.T.dot(xi.dot(theta)-yi)\n",
    "        eta = learning_schedule(epoch * m + i)\n",
    "        theta = theta - eta * gradients\n",
    "        \n",
    "theta"
   ]
  },
  {
   "cell_type": "markdown",
   "metadata": {},
   "source": [
    "Batch Gradient Descent코드가 전체 train set을 통해 1000회 반복되는 동안 train set을 50회 통과하고 좋은 곳에 도달함.\n",
    "\n",
    "![16](../book_images/04/16.png)\n",
    "\n",
    "인스턴스는 무작위로 선택되므로 일부 인스턴스는 여러번 선택될수 있지만 일부 인스턴스는 선택되지 않을 수 있다. 모든 인스턴스가 통과하는지 확인하려면 train set을 섞어서 인스턴스 별로 인스턴스화 한다음 다시 섞는 것이다. \n",
    "\n",
    "Scikit-Learn을 사용하여 SGD를 이용하려면 SGDRegressor 클래스 사용하면된다."
   ]
  },
  {
   "cell_type": "code",
   "execution_count": 35,
   "metadata": {},
   "outputs": [
    {
     "name": "stderr",
     "output_type": "stream",
     "text": [
      "/Users/jaejin/dev/tensorflow/jupyter/lib/python3.5/site-packages/sklearn/linear_model/stochastic_gradient.py:117: DeprecationWarning: n_iter parameter is deprecated in 0.19 and will be removed in 0.21. Use max_iter and tol instead.\n",
      "  DeprecationWarning)\n"
     ]
    },
    {
     "data": {
      "text/plain": [
       "(array([ 3.82030599]), array([ 3.09960433]))"
      ]
     },
     "execution_count": 35,
     "metadata": {},
     "output_type": "execute_result"
    }
   ],
   "source": [
    "from sklearn.linear_model import SGDRegressor\n",
    "\n",
    "sgd_reg = SGDRegressor(n_iter=50, penalty=None, eta0=0.1)\n",
    "sgd_reg.fit(X, Y.ravel())\n",
    "\n",
    "sgd_reg.intercept_,sgd_reg.coef_"
   ]
  },
  {
   "cell_type": "markdown",
   "metadata": {},
   "source": [
    "## Mini-batch Gradient Descnet\n",
    "\n",
    "각 단계에서 전체 train set 또는 하나의 인스턴스를 기반으로 한 gradient를 계산하는 대신 mini-batch GD는 미니 일괄 처리라고 불리는 인스턴스의 작은 무작위 집합에서 gradient를 계산한다. 특히 GPU사용할때 좋음 \n",
    "\n",
    "mini-batch GD는 SGD보다 조금 더 가깝게 끝난다. 반면에 local 을 벗어나는 것이 힘들어 질 수도있다. 밑의 그림은 3개의 Gradient Descent 알고리즘에 의해 취해진 경로를 보여준다. Batch GD는 최소한으로 가는 반면 다른것들은 주위를 멤돈다.\n",
    "\n",
    "![17](../book_images/04/17.png)\n",
    "\n",
    "다음은 지금까지 설명한 알고리즘을 비교해보자. m 은 인스턴스 수 n은 feature 수 이다.\n",
    "\n",
    "|Algorithm| Latge m | Out-of-core support | Large n | Hyperparams |\n",
    "|---|---|---|---|---|\n",
    "|Normal Equation | Fast | No | Slow | 0 |\n",
    "|Batch GD | Slow | No | Fast | 2 |\n",
    "| Stochastic | Fast | Yes | Fast | >=2 |\n",
    "|Mini-batch GD | Fast | Yes | Fast | >=2 |\n",
    "\n"
   ]
  },
  {
   "cell_type": "markdown",
   "metadata": {},
   "source": [
    "# Plynomial Regression\n",
    "\n",
    "데이터가 선형이 아닌 비선형일때 선형모델을 사용할수 있다. \n",
    "각 feature의 기능을 새로운 feature로 추가 한다음 확장 된 feature 세트에서 선형 모델을 train 시킨다."
   ]
  },
  {
   "cell_type": "code",
   "execution_count": 39,
   "metadata": {},
   "outputs": [
    {
     "data": {
      "image/png": "[encoded data removed]",
      "text/plain": [
       "<matplotlib.figure.Figure at 0x10b4d70f0>"
      ]
     },
     "metadata": {},
     "output_type": "display_data"
    }
   ],
   "source": [
    "m = 100\n",
    "X = 6* np.random.rand(m,1) - 3\n",
    "Y = 0.5 * X**2 + X + 2 + np.random.randn(m,1)\n",
    "\n",
    "import matplotlib.pyplot as plt\n",
    "\n",
    "plt.plot(X, Y, \"b.\")\n",
    "plt.xlabel(\"$x_1$\", fontsize=18)\n",
    "plt.ylabel(\"$y$\", rotation=0, fontsize=18)\n",
    "plt.axis([-3, 3, 0, 10])\n",
    "plt.show()"
   ]
  },
  {
   "cell_type": "markdown",
   "metadata": {},
   "source": [
    "위의 그림은 선형모델을 이용하기엔 적합하지 않다\n",
    "Scikit-Learn의 PolynomialFeatures 클래스를 사용한다."
   ]
  },
  {
   "cell_type": "code",
   "execution_count": 42,
   "metadata": {},
   "outputs": [
    {
     "data": {
      "text/plain": [
       "array([-1.92151   ,  3.69220069])"
      ]
     },
     "execution_count": 42,
     "metadata": {},
     "output_type": "execute_result"
    }
   ],
   "source": [
    "from sklearn.preprocessing import PolynomialFeatures\n",
    "poly_features = PolynomialFeatures(degree = 2, include_bias = False)\n",
    "X_poly = poly_features.fit_transform(X)\n",
    "X[0]\n",
    "\n",
    "X_poly[0]"
   ]
  },
  {
   "cell_type": "code",
   "execution_count": 43,
   "metadata": {},
   "outputs": [
    {
     "data": {
      "text/plain": [
       "(array([ 2.3008086]), array([[ 0.9381077 ,  0.48375674]]))"
      ]
     },
     "execution_count": 43,
     "metadata": {},
     "output_type": "execute_result"
    }
   ],
   "source": [
    "lin_reg = LinearRegression()\n",
    "lin_reg.fit(X_poly, Y)\n",
    "lin_reg.intercept_, lin_reg.coef_"
   ]
  },
  {
   "cell_type": "code",
   "execution_count": null,
   "metadata": {},
   "outputs": [],
   "source": [
    "# 예측한 그래프 그리기"
   ]
  },
  {
   "cell_type": "markdown",
   "metadata": {},
   "source": [
    "다중 feature가 있을때 다항식 회귀는 feature간 관계를 찾을 수 있다. 선형으로는 불가능함. \n",
    "a,b가 있을때 ab, a^2b등등 "
   ]
  },
  {
   "cell_type": "markdown",
   "metadata": {},
   "source": [
    "## Learning Curves\n",
    "\n",
    "높은 차수의 다항식 회귀 분석을 수행하면 선형 회귀 보다는 훨씬 잘 맞을 것이다.\n",
    "\n",
    "![18](../book_images/04/18.png)\n",
    "\n",
    "높은 차수의 다항식 회귀 모델은 overfitting이 될 수도 있다. 가장 일반화가 될 모델은 2차 모델이다. 2장에서 CV를 통해서 validation set을 만들어 테스트 해볼수 있다. 다른 방법은 learning curves를 확인 하는 방법이다. "
   ]
  },
  {
   "cell_type": "code",
   "execution_count": 50,
   "metadata": {},
   "outputs": [
    {
     "data": {
      "image/png": "[encoded data removed]",
      "text/plain": [
       "<matplotlib.figure.Figure at 0x10b82d390>"
      ]
     },
     "metadata": {},
     "output_type": "display_data"
    }
   ],
   "source": [
    "from sklearn.metrics import mean_squared_error\n",
    "from sklearn.model_selection import train_test_split\n",
    "\n",
    "def plot_learning_curves(model, X, Y):\n",
    "    X_train, X_val, y_train, y_val = train_test_split(X, Y, test_size=0.2)\n",
    "    train_errors, val_errors = [], []\n",
    "    for m in range(1, len(X_train)):\n",
    "        model.fit(X_train[:m],y_train[:m])\n",
    "        y_train_predict = model.predict(X_train[:m])\n",
    "        y_val_predict = model.predict(X_val)\n",
    "        \n",
    "    train_errors.append(mean_squared_error(y_train_predict, y_train[:m]))\n",
    "    val_errors.append(mean_squared_error(y_val_predict, y_val))\n",
    "\n",
    "    plt.plot(np.sqrt(train_errors), \"r-+\", linewidth=2, label=\"train\")\n",
    "    plt.plot(np.sqrt(val_errors), \"b-\", linewidth=3, label=\"val\")\n",
    "    \n",
    "lin_reg = LinearRegression()\n",
    "plot_learning_curves(lin_reg, X,Y)"
   ]
  },
  {
   "cell_type": "markdown",
   "metadata": {},
   "source": [
    "![19](../book_images/04/19.png)\n",
    "\n",
    "\n",
    "train set에 인스턴스가 하나 또는 두개일경우 모델이 완벽히 맞출수 있어 곡선이 0에서 시작된다. \n",
    "하지만 새로운 인스턴스가 trainset 에 추가 되면 선형이 아니기 때문에 traindata를 맞출수 없다. 따라서 안좋게 나타난다.\n",
    "이제 test 데이터 성능을 보면 극 소수의 인스턴스에서 train을 받으면 제대로 일반화 할 수 없기 때문에 초기에 유효서 검증 오류가 아주 큰 이유가 된다 \n",
    "\n",
    "이러한 곡선은 underfittin 모델을 보여준다."
   ]
  },
  {
   "cell_type": "code",
   "execution_count": 51,
   "metadata": {},
   "outputs": [
    {
     "data": {
      "image/png": "[encoded data removed]",
      "text/plain": [
       "<matplotlib.figure.Figure at 0x10ba795f8>"
      ]
     },
     "metadata": {},
     "output_type": "display_data"
    }
   ],
   "source": [
    "from sklearn.pipeline import Pipeline\n",
    "\n",
    "polynomial_regression = Pipeline([(\"poly_features\", PolynomialFeatures(degree=10,\n",
    "                                                                      include_bias=False)),\n",
    "                                 (\"lin_reg\", LinearRegression()),\n",
    "                                 ])\n",
    "\n",
    "plot_learning_curves(polynomial_regression, X,Y)"
   ]
  },
  {
   "cell_type": "markdown",
   "metadata": {},
   "source": [
    "train data error는 선형 회귀 모델보다 훨씬 낮다. \n",
    "곡선 사이에간격이 있는데 overfitting모델의 특징인 유효성 검사 데이터 보다 train 데이터 에서 훨씬 잘 수행됨을 의미한다. \n",
    "\n",
    "![20](../book_images/04/20.png)\n",
    "\n"
   ]
  },
  {
   "cell_type": "markdown",
   "metadata": {},
   "source": [
    "# Regularized Linear Models\n",
    "\n",
    "1장 2장에서 보았듯이 overfitting을 줄이는 방법은 정규화 하는 것이다. 간단한 방법은 다항식의 차수를 줄이는 법이다. \n",
    "\n",
    "## Ridge Regression\n",
    "\n",
    "cost function에 정규화 항을 더한다. 데이터에 적합해질 뿐만아니라 가중치를 가능한 작게 유지하게 된다. \n",
    "하이퍼 파라미터 α는 모델을 정규화하는 양을 정한다. α = 0 이면 ridge regression은 단지 선형이다. α이 매우 큰경우 모든 가중치는 거의 0에 가까워지고 그 결과는 데이터의평균을 통과하는 선이 된다.\n",
    "\n",
    "![21](../book_images/04/21.png)\n",
    "\n",
    " L2 norm이라 부름\n",
    " \n",
    "밑의 그림은 서로 다른 α값을 사용하여 일부 선형 데이터에 대한 학습 한 여러 ridge 모델을 보여준다.\n"
   ]
  },
  {
   "cell_type": "code",
   "execution_count": 52,
   "metadata": {},
   "outputs": [
    {
     "data": {
      "text/plain": [
       "array([[ 5.17253409]])"
      ]
     },
     "execution_count": 52,
     "metadata": {},
     "output_type": "execute_result"
    }
   ],
   "source": [
    "from sklearn.linear_model import Ridge\n",
    "\n",
    "ridge_reg = Ridge(alpha = 1, solver = \"cholesky\")\n",
    "ridge_reg.fit(X,Y)\n",
    "ridge_reg.predict([[1.5]])"
   ]
  },
  {
   "cell_type": "code",
   "execution_count": 57,
   "metadata": {},
   "outputs": [
    {
     "ename": "ValueError",
     "evalue": "Penalty 12 is not supported. ",
     "output_type": "error",
     "traceback": [
      "\u001b[0;31m---------------------------------------------------------------------------\u001b[0m",
      "\u001b[0;31mKeyError\u001b[0m                                  Traceback (most recent call last)",
      "\u001b[0;32m~/dev/tensorflow/jupyter/lib/python3.5/site-packages/sklearn/linear_model/stochastic_gradient.py\u001b[0m in \u001b[0;36m_get_penalty_type\u001b[0;34m(self, penalty)\u001b[0m\n\u001b[1;32m    156\u001b[0m         \u001b[0;32mtry\u001b[0m\u001b[0;34m:\u001b[0m\u001b[0;34m\u001b[0m\u001b[0m\n\u001b[0;32m--> 157\u001b[0;31m             \u001b[0;32mreturn\u001b[0m \u001b[0mPENALTY_TYPES\u001b[0m\u001b[0;34m[\u001b[0m\u001b[0mpenalty\u001b[0m\u001b[0;34m]\u001b[0m\u001b[0;34m\u001b[0m\u001b[0m\n\u001b[0m\u001b[1;32m    158\u001b[0m         \u001b[0;32mexcept\u001b[0m \u001b[0mKeyError\u001b[0m\u001b[0;34m:\u001b[0m\u001b[0;34m\u001b[0m\u001b[0m\n",
      "\u001b[0;31mKeyError\u001b[0m: '12'",
      "\nDuring handling of the above exception, another exception occurred:\n",
      "\u001b[0;31mValueError\u001b[0m                                Traceback (most recent call last)",
      "\u001b[0;32m<ipython-input-57-c87fd2e57b5b>\u001b[0m in \u001b[0;36m<module>\u001b[0;34m()\u001b[0m\n\u001b[0;32m----> 1\u001b[0;31m \u001b[0msgd_reg\u001b[0m \u001b[0;34m=\u001b[0m \u001b[0mSGDRegressor\u001b[0m\u001b[0;34m(\u001b[0m\u001b[0mpenalty\u001b[0m\u001b[0;34m=\u001b[0m\u001b[0;36m12\u001b[0m\u001b[0;34m)\u001b[0m\u001b[0;34m\u001b[0m\u001b[0m\n\u001b[0m\u001b[1;32m      2\u001b[0m \u001b[0msgd_reg\u001b[0m\u001b[0;34m.\u001b[0m\u001b[0mfit\u001b[0m\u001b[0;34m(\u001b[0m\u001b[0mX\u001b[0m\u001b[0;34m,\u001b[0m \u001b[0mY\u001b[0m\u001b[0;34m.\u001b[0m\u001b[0mravel\u001b[0m\u001b[0;34m(\u001b[0m\u001b[0;34m)\u001b[0m\u001b[0;34m)\u001b[0m\u001b[0;34m\u001b[0m\u001b[0m\n\u001b[1;32m      3\u001b[0m \u001b[0msgd_reg\u001b[0m\u001b[0;34m.\u001b[0m\u001b[0mpredict\u001b[0m\u001b[0;34m(\u001b[0m\u001b[0;34m[\u001b[0m\u001b[0;34m[\u001b[0m\u001b[0;36m1.5\u001b[0m\u001b[0;34m]\u001b[0m\u001b[0;34m]\u001b[0m\u001b[0;34m)\u001b[0m\u001b[0;34m\u001b[0m\u001b[0m\n",
      "\u001b[0;32m~/dev/tensorflow/jupyter/lib/python3.5/site-packages/sklearn/linear_model/stochastic_gradient.py\u001b[0m in \u001b[0;36m__init__\u001b[0;34m(self, loss, penalty, alpha, l1_ratio, fit_intercept, max_iter, tol, shuffle, verbose, epsilon, random_state, learning_rate, eta0, power_t, warm_start, average, n_iter)\u001b[0m\n\u001b[1;32m   1341\u001b[0m                                            \u001b[0meta0\u001b[0m\u001b[0;34m=\u001b[0m\u001b[0meta0\u001b[0m\u001b[0;34m,\u001b[0m \u001b[0mpower_t\u001b[0m\u001b[0;34m=\u001b[0m\u001b[0mpower_t\u001b[0m\u001b[0;34m,\u001b[0m\u001b[0;34m\u001b[0m\u001b[0m\n\u001b[1;32m   1342\u001b[0m                                            \u001b[0mwarm_start\u001b[0m\u001b[0;34m=\u001b[0m\u001b[0mwarm_start\u001b[0m\u001b[0;34m,\u001b[0m\u001b[0;34m\u001b[0m\u001b[0m\n\u001b[0;32m-> 1343\u001b[0;31m                                            average=average, n_iter=n_iter)\n\u001b[0m",
      "\u001b[0;32m~/dev/tensorflow/jupyter/lib/python3.5/site-packages/sklearn/linear_model/stochastic_gradient.py\u001b[0m in \u001b[0;36m__init__\u001b[0;34m(self, loss, penalty, alpha, l1_ratio, fit_intercept, max_iter, tol, shuffle, verbose, epsilon, random_state, learning_rate, eta0, power_t, warm_start, average, n_iter)\u001b[0m\n\u001b[1;32m    933\u001b[0m                                                \u001b[0mwarm_start\u001b[0m\u001b[0;34m=\u001b[0m\u001b[0mwarm_start\u001b[0m\u001b[0;34m,\u001b[0m\u001b[0;34m\u001b[0m\u001b[0m\n\u001b[1;32m    934\u001b[0m                                                \u001b[0maverage\u001b[0m\u001b[0;34m=\u001b[0m\u001b[0maverage\u001b[0m\u001b[0;34m,\u001b[0m\u001b[0;34m\u001b[0m\u001b[0m\n\u001b[0;32m--> 935\u001b[0;31m                                                n_iter=n_iter)\n\u001b[0m\u001b[1;32m    936\u001b[0m \u001b[0;34m\u001b[0m\u001b[0m\n\u001b[1;32m    937\u001b[0m     def _partial_fit(self, X, y, alpha, C, loss, learning_rate,\n",
      "\u001b[0;32m~/dev/tensorflow/jupyter/lib/python3.5/site-packages/sklearn/linear_model/stochastic_gradient.py\u001b[0m in \u001b[0;36m__init__\u001b[0;34m(self, loss, penalty, alpha, C, l1_ratio, fit_intercept, max_iter, tol, shuffle, verbose, epsilon, random_state, learning_rate, eta0, power_t, warm_start, average, n_iter)\u001b[0m\n\u001b[1;32m     72\u001b[0m         \u001b[0;31m# current tests expect init to do parameter validation\u001b[0m\u001b[0;34m\u001b[0m\u001b[0;34m\u001b[0m\u001b[0m\n\u001b[1;32m     73\u001b[0m         \u001b[0;31m# but we are not allowed to set attributes\u001b[0m\u001b[0;34m\u001b[0m\u001b[0;34m\u001b[0m\u001b[0m\n\u001b[0;32m---> 74\u001b[0;31m         \u001b[0mself\u001b[0m\u001b[0;34m.\u001b[0m\u001b[0m_validate_params\u001b[0m\u001b[0;34m(\u001b[0m\u001b[0mset_max_iter\u001b[0m\u001b[0;34m=\u001b[0m\u001b[0;32mFalse\u001b[0m\u001b[0;34m)\u001b[0m\u001b[0;34m\u001b[0m\u001b[0m\n\u001b[0m\u001b[1;32m     75\u001b[0m \u001b[0;34m\u001b[0m\u001b[0m\n\u001b[1;32m     76\u001b[0m     \u001b[0;32mdef\u001b[0m \u001b[0mset_params\u001b[0m\u001b[0;34m(\u001b[0m\u001b[0mself\u001b[0m\u001b[0;34m,\u001b[0m \u001b[0;34m*\u001b[0m\u001b[0margs\u001b[0m\u001b[0;34m,\u001b[0m \u001b[0;34m**\u001b[0m\u001b[0mkwargs\u001b[0m\u001b[0;34m)\u001b[0m\u001b[0;34m:\u001b[0m\u001b[0;34m\u001b[0m\u001b[0m\n",
      "\u001b[0;32m~/dev/tensorflow/jupyter/lib/python3.5/site-packages/sklearn/linear_model/stochastic_gradient.py\u001b[0m in \u001b[0;36m_validate_params\u001b[0;34m(self, set_max_iter)\u001b[0m\n\u001b[1;32m    102\u001b[0m \u001b[0;34m\u001b[0m\u001b[0m\n\u001b[1;32m    103\u001b[0m         \u001b[0;31m# raises ValueError if not registered\u001b[0m\u001b[0;34m\u001b[0m\u001b[0;34m\u001b[0m\u001b[0m\n\u001b[0;32m--> 104\u001b[0;31m         \u001b[0mself\u001b[0m\u001b[0;34m.\u001b[0m\u001b[0m_get_penalty_type\u001b[0m\u001b[0;34m(\u001b[0m\u001b[0mself\u001b[0m\u001b[0;34m.\u001b[0m\u001b[0mpenalty\u001b[0m\u001b[0;34m)\u001b[0m\u001b[0;34m\u001b[0m\u001b[0m\n\u001b[0m\u001b[1;32m    105\u001b[0m         \u001b[0mself\u001b[0m\u001b[0;34m.\u001b[0m\u001b[0m_get_learning_rate_type\u001b[0m\u001b[0;34m(\u001b[0m\u001b[0mself\u001b[0m\u001b[0;34m.\u001b[0m\u001b[0mlearning_rate\u001b[0m\u001b[0;34m)\u001b[0m\u001b[0;34m\u001b[0m\u001b[0m\n\u001b[1;32m    106\u001b[0m \u001b[0;34m\u001b[0m\u001b[0m\n",
      "\u001b[0;32m~/dev/tensorflow/jupyter/lib/python3.5/site-packages/sklearn/linear_model/stochastic_gradient.py\u001b[0m in \u001b[0;36m_get_penalty_type\u001b[0;34m(self, penalty)\u001b[0m\n\u001b[1;32m    157\u001b[0m             \u001b[0;32mreturn\u001b[0m \u001b[0mPENALTY_TYPES\u001b[0m\u001b[0;34m[\u001b[0m\u001b[0mpenalty\u001b[0m\u001b[0;34m]\u001b[0m\u001b[0;34m\u001b[0m\u001b[0m\n\u001b[1;32m    158\u001b[0m         \u001b[0;32mexcept\u001b[0m \u001b[0mKeyError\u001b[0m\u001b[0;34m:\u001b[0m\u001b[0;34m\u001b[0m\u001b[0m\n\u001b[0;32m--> 159\u001b[0;31m             \u001b[0;32mraise\u001b[0m \u001b[0mValueError\u001b[0m\u001b[0;34m(\u001b[0m\u001b[0;34m\"Penalty %s is not supported. \"\u001b[0m \u001b[0;34m%\u001b[0m \u001b[0mpenalty\u001b[0m\u001b[0;34m)\u001b[0m\u001b[0;34m\u001b[0m\u001b[0m\n\u001b[0m\u001b[1;32m    160\u001b[0m \u001b[0;34m\u001b[0m\u001b[0m\n\u001b[1;32m    161\u001b[0m     \u001b[0;32mdef\u001b[0m \u001b[0m_validate_sample_weight\u001b[0m\u001b[0;34m(\u001b[0m\u001b[0mself\u001b[0m\u001b[0;34m,\u001b[0m \u001b[0msample_weight\u001b[0m\u001b[0;34m,\u001b[0m \u001b[0mn_samples\u001b[0m\u001b[0;34m)\u001b[0m\u001b[0;34m:\u001b[0m\u001b[0;34m\u001b[0m\u001b[0m\n",
      "\u001b[0;31mValueError\u001b[0m: Penalty 12 is not supported. "
     ]
    }
   ],
   "source": [
    "sgd_reg = SGDRegressor(penalty=\"12\")\n",
    "sgd_reg.fit(X, Y.ravel())\n",
    "sgd_reg.predict([[1.5]])"
   ]
  },
  {
   "cell_type": "markdown",
   "metadata": {},
   "source": [
    "## Lasso Regression\n",
    "\n",
    "선형 회귀의 또 다른 정규화 버전이다. Ridge와 마찬가지로 cost function에 정규화를 추가하지만 가중치 벡터의 L1 norm을 사용한다.\n",
    "\n",
    "![22](../book_images/04/22.png)\n",
    "![23](../book_images/04/23.png)\n",
    "\n",
    "Lasso 의 중요한 특징은 가장 중요하지 않은 특징의 가중치를 완저히 없앤다. ( 0으로 만들어버림 )\n",
    "\n",
    "밑의 그림을 보면 알수있다. 왼쪽 위의 그림에서 타원은 비 정규화 된 MSE cost function을 나타내고 흰색원은 하강 경로 다이아몬드는 L1 패널티를 나타낸다.  θ1 = 0에 도달 한다음  θ2 = 0에 도달 할 때까지 아래로 간다. \n",
    "오른쪽 위의 그림은 동일한 cost functioin과 α = 0.5의 L1 패널티를 나타낸다. \n",
    "\n",
    "![24](../book_images/04/24.png)\n",
    "\n"
   ]
  },
  {
   "cell_type": "code",
   "execution_count": 58,
   "metadata": {},
   "outputs": [
    {
     "data": {
      "text/plain": [
       "array([ 5.12405804])"
      ]
     },
     "execution_count": 58,
     "metadata": {},
     "output_type": "execute_result"
    }
   ],
   "source": [
    "from sklearn.linear_model import Lasso\n",
    "\n",
    "lasso_reg = Lasso(alpha = 0.1)\n",
    "lasso_reg.fit(X,Y)\n",
    "lasso_reg.predict([[1.5]])"
   ]
  },
  {
   "cell_type": "markdown",
   "metadata": {},
   "source": [
    "## Elastic Net\n",
    "\n",
    "Elastic Net은 Ridge Regression과 Lasso Regression 사이의 중간 지점이다. 섞은 것으로 혼합 비율 r을 제어 할 수있다. r = 0 인경우 Ridge Regression과 같고 r = 1일때 Lasso Regression과 같다.\n",
    "\n",
    "![25](../book_images/04/25.png)\n",
    "\n",
    "Ridge가 좋은 기본값이지만 실제로 몇 가지 기능만 유용하다고 보면 Lasso나 Elastic Net을 선호한다."
   ]
  },
  {
   "cell_type": "code",
   "execution_count": 59,
   "metadata": {},
   "outputs": [
    {
     "data": {
      "text/plain": [
       "array([ 5.12619305])"
      ]
     },
     "execution_count": 59,
     "metadata": {},
     "output_type": "execute_result"
    }
   ],
   "source": [
    "from sklearn.linear_model import ElasticNet\n",
    "elastic_net = ElasticNet(alpha=0.1, l1_ratio=0.5)\n",
    "elastic_net.fit(X,Y)\n",
    "elastic_net.predict([[1.5]])\n"
   ]
  },
  {
   "cell_type": "markdown",
   "metadata": {},
   "source": [
    "## Early Stopping\n",
    "\n",
    "Validation error가 최소가 될때 학습을 중지시켜버린다. \n",
    "\n",
    "![26](../book_images/04/26.png)\n",
    "\n"
   ]
  },
  {
   "cell_type": "code",
   "execution_count": 61,
   "metadata": {},
   "outputs": [
    {
     "ename": "NameError",
     "evalue": "name 'StandardScaler' is not defined",
     "output_type": "error",
     "traceback": [
      "\u001b[0;31m---------------------------------------------------------------------------\u001b[0m",
      "\u001b[0;31mNameError\u001b[0m                                 Traceback (most recent call last)",
      "\u001b[0;32m<ipython-input-61-88f3cc0837a2>\u001b[0m in \u001b[0;36m<module>\u001b[0;34m()\u001b[0m\n\u001b[1;32m      3\u001b[0m poly_scaler = Pipeline([(\"poly_features\", PolynomialFeatures(degree=90,\n\u001b[1;32m      4\u001b[0m                                                            include_bias=False)),\n\u001b[0;32m----> 5\u001b[0;31m                       (\"std_scaler\", StandardScaler()) ])\n\u001b[0m\u001b[1;32m      6\u001b[0m \u001b[0mX_train_poly_scaled\u001b[0m \u001b[0;34m=\u001b[0m \u001b[0mpoly_scaler\u001b[0m\u001b[0;34m.\u001b[0m\u001b[0mfit_transform\u001b[0m\u001b[0;34m(\u001b[0m\u001b[0mX_train\u001b[0m\u001b[0;34m)\u001b[0m\u001b[0;34m\u001b[0m\u001b[0m\n\u001b[1;32m      7\u001b[0m \u001b[0mX_val_poly_scaled\u001b[0m \u001b[0;34m=\u001b[0m \u001b[0mpoly_scaler\u001b[0m\u001b[0;34m.\u001b[0m\u001b[0mtransform\u001b[0m\u001b[0;34m(\u001b[0m\u001b[0mX_val\u001b[0m\u001b[0;34m)\u001b[0m\u001b[0;34m\u001b[0m\u001b[0m\n",
      "\u001b[0;31mNameError\u001b[0m: name 'StandardScaler' is not defined"
     ]
    }
   ],
   "source": [
    "from sklearn.base import clone\n",
    "\n",
    "poly_scaler = Pipeline([(\"poly_features\", PolynomialFeatures(degree=90,\n",
    "                                                           include_bias=False)),\n",
    "                      (\"std_scaler\", StandardScaler()) ])\n",
    "X_train_poly_scaled = poly_scaler.fit_transform(X_train)\n",
    "X_val_poly_scaled = poly_scaler.transform(X_val)\n",
    "\n",
    "sgd_reg = SGDRegressor(n_iter=1, warm_start = True, penalty=None, learning_rate=\"constant\", eta0=0.0005)\n",
    "\n",
    "minimum_val_error = float(\"inf\")\n",
    "best_epoch = None\n",
    "best_model = None\n",
    "for epoch in range(1000):\n",
    "    sgd_reg.fit(X_train_poly_scaled, y_train)\n",
    "    y_val_predict = sgd_reg.predict(X_val_poly_scaled)\n",
    "    val_error = mean_squared_error(y_val_predict, y_val)\n",
    "    if val_error < minimum_val_error:\n",
    "        minimum_val_error = val_error\n",
    "        best_epoch = epoch\n",
    "        best_model = clone(sgd_reg)"
   ]
  },
  {
   "cell_type": "markdown",
   "metadata": {},
   "source": [
    "# Logistic Regression\n",
    "\n",
    "1장에서 봤듯이 회귀 알고리즘을 분류에도 사용할수있듬. 인스턴스가 특정 클래스에 속할 확률을 추정하는데 일반적으로 사용된다. 추정확률이 50%보다 크면 1 아니면 0이라고 라벨링을 하면됨.\n",
    "\n",
    "## Estimating Probabilities\n",
    "\n",
    "직선 회귀 모델과 마찬가지로 가중치를 계산하지만 직접 결과를 출력하는대신 logistic한 결과를 냄\n",
    "\n",
    "![27](../book_images/04/27.png)\n",
    "\n",
    "0과 1사이의 수를 출력하는 시그모이드 함수이다.\n",
    "\n",
    "![28](../book_images/04/28.png)\n",
    "\n",
    "인스턴스 x가 양의 클래스에 속하는 확률을 추정하면 예측을 쉽게 할 수 있음.\n",
    "\n",
    "![29](../book_images/04/29.png)\n",
    "\n",
    "## Training and Cost Function\n",
    "\n",
    "학습 시킬때 양의 인스턴스 (y=1)에 대한 높은 확률과 음의 인스턴스 (y=0)에 대한 낮은 확률을 추정하도록 매개변수 벡터 θ 를 설정한다.\n",
    "\n",
    "![30](../book_images/04/30.png)\n",
    "\n",
    "이 cost function은 t가 0에 가까울때 log(t)가 커진다. 따라서 모델이 양의 인스턴스에 대해 확률이 0에 가까우면 cost가 커지고 모델이 추정하면 매우 커질것이다. 반면 t 가 1에 가까울때 log(t)는 0에 가깝기 때문에 추정된 확률이 음의 인스턴스의 경우 1에 가까울수록 cost는 0에 가깝다.\n",
    "\n",
    "![31](../book_images/04/31.png)\n",
    "\n",
    "안좋은 것은 cost function을 최소화하는 θ의 값을 계산할 수 있는 공식이없다. \n",
    "좋은 것은 cost function이 볼록형이므로 gradient descent가 최소값을 찾도록한다.\n",
    "\n",
    "![32](../book_images/04/32.png)\n",
    "\n",
    "이 방정식은 그 전에 방정식과 비슷하게 보인다. 각인스턴스에 대해 에측 오류를 계산하고 j번째 feature값으로 곱한다음 모든 train 인스턴스에 대한 평균을 계산한다.\n",
    "\n",
    "## Decision Boundaries\n",
    "\n",
    "꽃의 데이터 셋트를 예로 든다.\n",
    "\n",
    "![33](../book_images/04/33.png)\n",
    "\n"
   ]
  },
  {
   "cell_type": "code",
   "execution_count": 62,
   "metadata": {},
   "outputs": [
    {
     "data": {
      "text/plain": [
       "['DESCR', 'target_names', 'feature_names', 'data', 'target']"
      ]
     },
     "execution_count": 62,
     "metadata": {},
     "output_type": "execute_result"
    }
   ],
   "source": [
    "from sklearn import datasets\n",
    "iris = datasets.load_iris()\n",
    "list(iris.keys())"
   ]
  },
  {
   "cell_type": "code",
   "execution_count": 64,
   "metadata": {},
   "outputs": [],
   "source": [
    "X = iris[\"data\"][:,3:]\n",
    "Y = (iris[\"target\"] == 2).astype(np.int)"
   ]
  },
  {
   "cell_type": "code",
   "execution_count": 65,
   "metadata": {},
   "outputs": [
    {
     "data": {
      "text/plain": [
       "[<matplotlib.lines.Line2D at 0x10b5595c0>]"
      ]
     },
     "execution_count": 65,
     "metadata": {},
     "output_type": "execute_result"
    },
    {
     "data": {
      "image/png": "[encoded data removed]",
      "text/plain": [
       "<matplotlib.figure.Figure at 0x108cb3710>"
      ]
     },
     "metadata": {},
     "output_type": "display_data"
    }
   ],
   "source": [
    "from sklearn.linear_model import LogisticRegression\n",
    "\n",
    "log_reg = LogisticRegression()\n",
    "log_reg.fit(X,Y)\n",
    "\n",
    "X_new = np.linspace(0,3,1000).reshape(-1,1)\n",
    "Y_proba = log_reg.predict_proba(X_new)\n",
    "plt.plot(X_new, Y_proba[:,1], \"g-\", label=\"Iris-Virginica\")\n",
    "plt.plot(X_new, Y_proba[:,0], \"b--\", label=\"Not Iris-Virginica\")"
   ]
  },
  {
   "cell_type": "markdown",
   "metadata": {},
   "source": [
    "버지니아 꽃의 꽃잎 폭은 1.4 cm ~ 2.5cm인데 다른 꽃은 일반적으로 0.1cm~1.8cm이다 쪼금 겹친다. 분류기는 2cm이상에서 꽃이 버지니아라고 예측할 것이다. 1.6cm인 경우에도 확률적으로 높은것을 예측한다.\n"
   ]
  },
  {
   "cell_type": "code",
   "execution_count": 66,
   "metadata": {},
   "outputs": [
    {
     "data": {
      "text/plain": [
       "array([1, 0])"
      ]
     },
     "execution_count": 66,
     "metadata": {},
     "output_type": "execute_result"
    }
   ],
   "source": [
    "log_reg.predict([[1.7],[1.5]])"
   ]
  },
  {
   "cell_type": "markdown",
   "metadata": {},
   "source": [
    "밑의 그림은 데이터 세트를 보여준다.\n",
    "\n",
    "![34](../book_images/04/34.png)\n",
    "\n"
   ]
  },
  {
   "cell_type": "markdown",
   "metadata": {},
   "source": [
    "## Softmax Regression\n",
    "\n",
    "softmax함수를 적용해 각 클래스의 확률을 계산한다.\n",
    "\n",
    "각 클래스에는 고유한 매개 변수 벡터 θ (k)가 존재한다. 인스턴스 x에 대한 모든 클래스의 점수를 계산하면 softmax 함수를 통해 클래스 k 가 속하는 확률 을 추정할 수있다.\n",
    "\n",
    "![35](../book_images/04/35.png)\n",
    "\n",
    "softmax도 logistic regression과 마찬가지로 높은 확률을 가진것을 예측한다.\n",
    "\n",
    "cross entropy는 예상 클래스 확률 집합이 목표 클래스와 얼마나 잘 일치하는지 측정하는 데 사용한다.\n",
    "\n",
    "두 클래스 (K=2)가 있을때는 cost function은 logistic 과 같다."
   ]
  },
  {
   "cell_type": "code",
   "execution_count": 67,
   "metadata": {},
   "outputs": [
    {
     "data": {
      "text/plain": [
       "LogisticRegression(C=10, class_weight=None, dual=False, fit_intercept=True,\n",
       "          intercept_scaling=1, max_iter=100, multi_class='multinomial',\n",
       "          n_jobs=1, penalty='l2', random_state=None, solver='lbfgs',\n",
       "          tol=0.0001, verbose=0, warm_start=False)"
      ]
     },
     "execution_count": 67,
     "metadata": {},
     "output_type": "execute_result"
    }
   ],
   "source": [
    "X = iris[\"data\"][:,(2,3)]\n",
    "Y = iris[\"target\"]\n",
    "\n",
    "softmax_reg = LogisticRegression(multi_class=\"multinomial\", solver = \"lbfgs\", C=10)\n",
    "softmax_reg.fit(X,Y)"
   ]
  },
  {
   "cell_type": "code",
   "execution_count": 68,
   "metadata": {},
   "outputs": [
    {
     "data": {
      "text/plain": [
       "array([2])"
      ]
     },
     "execution_count": 68,
     "metadata": {},
     "output_type": "execute_result"
    }
   ],
   "source": [
    "softmax_reg.predict([[5,2]])"
   ]
  },
  {
   "cell_type": "code",
   "execution_count": 69,
   "metadata": {},
   "outputs": [
    {
     "data": {
      "text/plain": [
       "array([[  6.33134077e-07,   5.75276067e-02,   9.42471760e-01]])"
      ]
     },
     "execution_count": 69,
     "metadata": {},
     "output_type": "execute_result"
    }
   ],
   "source": [
    "softmax_reg.predict_proba([[5,2]])"
   ]
  },
  {
   "cell_type": "markdown",
   "metadata": {},
   "source": [
    "밑의 그림은 색상으로 경계를 보여준다. "
   ]
  }
 ],
 "metadata": {
  "kernelspec": {
   "display_name": "Python 3",
   "language": "python",
   "name": "python3"
  },
  "language_info": {
   "codemirror_mode": {
    "name": "ipython",
    "version": 3
   },
   "file_extension": ".py",
   "mimetype": "text/x-python",
   "name": "python",
   "nbconvert_exporter": "python",
   "pygments_lexer": "ipython3",
   "version": "3.5.2"
  }
 },
 "nbformat": 4,
 "nbformat_minor": 2
}
